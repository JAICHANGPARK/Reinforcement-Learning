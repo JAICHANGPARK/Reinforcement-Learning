{
 "cells": [
  {
   "cell_type": "code",
   "execution_count": 1,
   "metadata": {
    "collapsed": true
   },
   "outputs": [],
   "source": [
    "import gym\n",
    "import numpy as np\n",
    "import random\n",
    "import tensorflow as tf\n",
    "import matplotlib.pyplot as plt\n",
    "%matplotlib inline"
   ]
  },
  {
   "cell_type": "code",
   "execution_count": 2,
   "metadata": {},
   "outputs": [
    {
     "name": "stderr",
     "output_type": "stream",
     "text": [
      "[2017-04-17 21:56:52,961] Making new env: FrozenLake-v0\n"
     ]
    }
   ],
   "source": [
    "# IS_SLIPPERY TRUE : 미끄러운 환경 조성 \n",
    "env = gym.make('FrozenLake-v0')\n",
    "#오른쪽으로 지시해도 가지 못함 (왜냐하면 미끄러졌기 때문에)"
   ]
  },
  {
   "cell_type": "code",
   "execution_count": 3,
   "metadata": {
    "collapsed": true
   },
   "outputs": [],
   "source": [
    "tf.reset_default_graph()"
   ]
  },
  {
   "cell_type": "code",
   "execution_count": 4,
   "metadata": {
    "collapsed": true
   },
   "outputs": [],
   "source": [
    "inputOne = tf.placeholder(shape = [1,16], dtype=tf.float32)\n",
    "W = tf.Variable(tf.random_uniform([16,4],0,0.01))\n",
    "Q_output = tf.matmul(inputOne,W)\n",
    "predict = tf.argmax(Q_output,1)"
   ]
  },
  {
   "cell_type": "code",
   "execution_count": 5,
   "metadata": {},
   "outputs": [
    {
     "data": {
      "text/plain": [
       "'아담 최적화를 적용할 경우 주석 해제'"
      ]
     },
     "execution_count": 5,
     "metadata": {},
     "output_type": "execute_result"
    }
   ],
   "source": [
    "# 손실(Loss)를 최적화 시키는 코드 \n",
    "#placeholder 껍데기 생성 \n",
    "Q_next = tf.placeholder(shape = [1,4], dtype=tf.float32)\n",
    "#손실 연산 ==> 손실이 최소로 가는 방향까지 계산하는게 중요\n",
    "loss = tf.reduce_sum(tf.square(Q_next - Q_output))\n",
    "#학습 최적화 과정 \n",
    "train = tf.train.GradientDescentOptimizer(learning_rate=0.1)\n",
    "updateModels = train.minimize(loss)\n",
    "\"\"\"아담 최적화를 적용할 경우 주석 해제\"\"\"\n",
    "#ModelAdam = tf.train.AdamOptimizer(0.0001).minimize(loss)"
   ]
  },
  {
   "cell_type": "code",
   "execution_count": 6,
   "metadata": {
    "collapsed": true
   },
   "outputs": [],
   "source": [
    "#변수 초기화 => 꼭 필요한 과정 \n",
    "init = tf.global_variables_initializer()"
   ]
  },
  {
   "cell_type": "code",
   "execution_count": null,
   "metadata": {
    "collapsed": true
   },
   "outputs": [],
   "source": [
    "y = .99\n",
    "e = 0.1\n",
    "num_episodes = 2000 # 2000번 학습 \n",
    "jList = []\n",
    "rList = []\n",
    "\n",
    "#텐서플로우는 항상 session이란 메소드에 넣어서 실행해야 동작함.\n",
    "with tf.Session() as sess:\n",
    "    sess.run(init)\n",
    "    for i in range(num_episodes):\n",
    "        #gym 환경 초기화 ( 중요 )\n",
    "        s = env.reset()\n",
    "        rAll = 0\n",
    "        d = False\n",
    "        j = 0\n",
    "        while j < 99:\n",
    "            j+=1\n",
    "            \n",
    "            a,allQ = sess.run([predict,Q_output],feed_dict={inputOne:np.identity(16)[s:s+1]})\n",
    "            \n",
    "            if np.random.rand(1) < e:\n",
    "                a[0] = env.action_space.sample()  # take a random action\n",
    "                \n",
    "            #환경으로 부터 새로운 상태와 보상을 얻는다. \n",
    "            s1,r,d,_ = env.step(a[0])\n",
    "            # Q^ 값을 얻어온다. \n",
    "            Q1 = sess.run(Q_output,feed_dict={inputOne:np.identity(16)[s1:s1+1]})\n",
    "            # 선택된 행동으로 부터 최대값의 Q값을 가져옴\n",
    "            maxQ1 = np.max(Q1)\n",
    "            targetQ = allQ\n",
    "            targetQ[0,a[0]] = r + y*maxQ1\n",
    "            \n",
    "            #Train our network using target and predicted Q values\n",
    "            _,W1 = sess.run([updateModels,W],feed_dict={inputOne:np.identity(16)[s:s+1],Q_next:targetQ})\n",
    "            rAll += r\n",
    "            s = s1\n",
    "            \n",
    "            if d == True:\n",
    "                #Reduce chance of random action as we train the model.\n",
    "                e = 1./((i/50) + 10)\n",
    "                break\n",
    "                \n",
    "        jList.append(j)\n",
    "        rList.append(rAll)\n",
    "print (\"Percent of succesful episodes: \" + str(sum(rList)/num_episodes) + \"%\")"
   ]
  },
  {
   "cell_type": "code",
   "execution_count": null,
   "metadata": {
    "collapsed": true
   },
   "outputs": [],
   "source": [
    "zs = 99."
   ]
  },
  {
   "cell_type": "code",
   "execution_count": null,
   "metadata": {
    "collapsed": true
   },
   "outputs": [],
   "source": [
    "print(zs)"
   ]
  },
  {
   "cell_type": "code",
   "execution_count": null,
   "metadata": {
    "collapsed": true
   },
   "outputs": [],
   "source": []
  }
 ],
 "metadata": {
  "kernelspec": {
   "display_name": "Python 3",
   "language": "python",
   "name": "python3"
  },
  "language_info": {
   "codemirror_mode": {
    "name": "ipython",
    "version": 3
   },
   "file_extension": ".py",
   "mimetype": "text/x-python",
   "name": "python",
   "nbconvert_exporter": "python",
   "pygments_lexer": "ipython3",
   "version": "3.5.2"
  }
 },
 "nbformat": 4,
 "nbformat_minor": 2
}
