{
 "cells": [
  {
   "cell_type": "code",
   "execution_count": 32,
   "metadata": {},
   "outputs": [],
   "source": [
    "import gym\n",
    "import numpy as np\n",
    "import matplotlib.pyplot as plt"
   ]
  },
  {
   "cell_type": "code",
   "execution_count": 33,
   "metadata": {},
   "outputs": [
    {
     "name": "stderr",
     "output_type": "stream",
     "text": [
      "[2017-04-17 22:32:44,058] Making new env: FrozenLake-v0\n"
     ]
    }
   ],
   "source": [
    "env = gym.make('FrozenLake-v0')"
   ]
  },
  {
   "cell_type": "code",
   "execution_count": 34,
   "metadata": {
    "collapsed": true
   },
   "outputs": [],
   "source": [
    "Q = np.zeros([env.observation_space.n,env.action_space.n])"
   ]
  },
  {
   "cell_type": "code",
   "execution_count": 35,
   "metadata": {},
   "outputs": [
    {
     "name": "stdout",
     "output_type": "stream",
     "text": [
      "[[ 0.  0.  0.  0.]\n",
      " [ 0.  0.  0.  0.]\n",
      " [ 0.  0.  0.  0.]\n",
      " [ 0.  0.  0.  0.]\n",
      " [ 0.  0.  0.  0.]\n",
      " [ 0.  0.  0.  0.]\n",
      " [ 0.  0.  0.  0.]\n",
      " [ 0.  0.  0.  0.]\n",
      " [ 0.  0.  0.  0.]\n",
      " [ 0.  0.  0.  0.]\n",
      " [ 0.  0.  0.  0.]\n",
      " [ 0.  0.  0.  0.]\n",
      " [ 0.  0.  0.  0.]\n",
      " [ 0.  0.  0.  0.]\n",
      " [ 0.  0.  0.  0.]\n",
      " [ 0.  0.  0.  0.]]\n"
     ]
    }
   ],
   "source": [
    "print(Q)"
   ]
  },
  {
   "cell_type": "code",
   "execution_count": 36,
   "metadata": {},
   "outputs": [
    {
     "name": "stdout",
     "output_type": "stream",
     "text": [
      "0.85 0.99 2000\n"
     ]
    }
   ],
   "source": [
    "learning_rate = .85\n",
    "dis = .99\n",
    "num_episodes = 2000\n",
    "print(learning_rate, dis, num_episodes)"
   ]
  },
  {
   "cell_type": "code",
   "execution_count": 37,
   "metadata": {
    "collapsed": true
   },
   "outputs": [],
   "source": [
    "rList = []\n",
    "for i in range(num_episodes):\n",
    "    state = env.reset()\n",
    "    rAll = 0\n",
    "    done = False\n",
    "    \n",
    "    while not done:\n",
    "        action = np.argmax(Q[state,:] + np.random.rand(1, env.action_space.n) / (i + 1))\n",
    "        \n",
    "        \"\"\"\n",
    "        출처 :https://mingrammer.com/underscore-in-python\n",
    "        _의 의미는 \n",
    "        1. 인터프리터(Interpreter)에서 마지막 값을 저장할 때\n",
    "        2. 값을 무시하고 싶을 때 (흔히 “I don’t care”라고 부른다.)\n",
    "        3. 변수나 함수명에 특별한 의미 또는 기능을 부여하고자 할 때\n",
    "        4. 국제화(Internationalization, i18n)/지역화(Localization, l10n) 함수로써 사용할 때\n",
    "        5. 숫자 리터럴값의 자릿수 구분을 위한 구분자로써 사용할 때\n",
    "        \n",
    "        '_' ( = throwaway variable)\n",
    "        굳이 어떤 변수에 값을 할당해서 쓰지 않을 경우에 사용하는 syntax.\n",
    "        \n",
    "        \"\"\"\n",
    "        new_state, reward, done, _ = env.step(action)\n",
    "        Q[state,action] = (1-learning_rate)*Q[state,action] + learning_rate*(reward + dis*(np.max(Q[new_state,:])))\n",
    "        rAll += reward\n",
    "        state = new_state\n",
    "    rList.append(rAll)"
   ]
  },
  {
   "cell_type": "code",
   "execution_count": 38,
   "metadata": {},
   "outputs": [
    {
     "name": "stdout",
     "output_type": "stream",
     "text": [
      "score time :0.4155\n",
      "Final Q-table Values\n",
      "[[  6.15332988e-03   6.17090331e-03   5.82671325e-01   5.93761761e-03]\n",
      " [  1.05098766e-03   6.86783036e-04   1.22033071e-05   4.14846885e-01]\n",
      " [  1.12550772e-03   4.51987548e-03   1.19277703e-03   2.90433228e-01]\n",
      " [  7.66263502e-04   8.29515465e-04   5.93977867e-05   2.25576390e-01]\n",
      " [  6.64885938e-01   2.87494265e-04   9.33086193e-05   0.00000000e+00]\n",
      " [  0.00000000e+00   0.00000000e+00   0.00000000e+00   0.00000000e+00]\n",
      " [  3.63059711e-02   5.86749913e-05   9.58972849e-06   2.33303539e-06]\n",
      " [  0.00000000e+00   0.00000000e+00   0.00000000e+00   0.00000000e+00]\n",
      " [  5.35782367e-05   0.00000000e+00   5.76937597e-06   7.05281813e-01]\n",
      " [  0.00000000e+00   9.06057956e-01   2.93777995e-04   0.00000000e+00]\n",
      " [  9.12354364e-01   3.64089230e-04   0.00000000e+00   0.00000000e+00]\n",
      " [  0.00000000e+00   0.00000000e+00   0.00000000e+00   0.00000000e+00]\n",
      " [  0.00000000e+00   0.00000000e+00   0.00000000e+00   0.00000000e+00]\n",
      " [  0.00000000e+00   0.00000000e+00   9.82129489e-01   1.23536134e-03]\n",
      " [  0.00000000e+00   0.00000000e+00   9.99665756e-01   0.00000000e+00]\n",
      " [  0.00000000e+00   0.00000000e+00   0.00000000e+00   0.00000000e+00]]\n"
     ]
    }
   ],
   "source": [
    "print(\"score time :\" + str(sum(rList) / num_episodes))\n",
    "print(\"Final Q-table Values\")\n",
    "print(Q)"
   ]
  },
  {
   "cell_type": "code",
   "execution_count": 39,
   "metadata": {},
   "outputs": [
    {
     "data": {
      "image/png": "[encoded data removed]",
      "text/plain": [
       "<matplotlib.figure.Figure at 0x20cc61d2748>"
      ]
     },
     "metadata": {},
     "output_type": "display_data"
    }
   ],
   "source": [
    "plt.figure(1)\n",
    "plt.bar(range(len(rList)), rList, color=\"red\")\n",
    "plt.show()"
   ]
  }
 ],
 "metadata": {
  "kernelspec": {
   "display_name": "Python 3",
   "language": "python",
   "name": "python3"
  },
  "language_info": {
   "codemirror_mode": {
    "name": "ipython",
    "version": 3
   },
   "file_extension": ".py",
   "mimetype": "text/x-python",
   "name": "python",
   "nbconvert_exporter": "python",
   "pygments_lexer": "ipython3",
   "version": "3.5.2"
  }
 },
 "nbformat": 4,
 "nbformat_minor": 2
}
