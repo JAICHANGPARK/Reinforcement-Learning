{
 "cells": [
  {
   "cell_type": "code",
   "execution_count": 1,
   "metadata": {
    "collapsed": true
   },
   "outputs": [],
   "source": [
    "import tensorflow as tf"
   ]
  },
  {
   "cell_type": "code",
   "execution_count": 2,
   "metadata": {
    "collapsed": true
   },
   "outputs": [],
   "source": [
    "import matplotlib.pyplot as plt"
   ]
  },
  {
   "cell_type": "code",
   "execution_count": 3,
   "metadata": {
    "collapsed": true
   },
   "outputs": [],
   "source": [
    "x_data = [4.0391, 1.3197, 9.5613, 0.5978, 3.5316, 0.1540, 1.6899, 7.3172, 4.5092, 2.9632]\n",
    "y_data = [11.4215, 10.0112, 30.2991, 1.0625, 13.1776, -3.1976, 6.7367, 23.8550, 14.8951, 11.6137]"
   ]
  },
  {
   "cell_type": "code",
   "execution_count": 4,
   "metadata": {},
   "outputs": [
    {
     "name": "stdout",
     "output_type": "stream",
     "text": [
      "[4.0391, 1.3197, 9.5613, 0.5978, 3.5316, 0.154, 1.6899, 7.3172, 4.5092, 2.9632] [11.4215, 10.0112, 30.2991, 1.0625, 13.1776, -3.1976, 6.7367, 23.855, 14.8951, 11.6137]\n"
     ]
    }
   ],
   "source": [
    "print(x_data,y_data)"
   ]
  },
  {
   "cell_type": "code",
   "execution_count": 5,
   "metadata": {
    "collapsed": true
   },
   "outputs": [],
   "source": [
    "W = tf.Variable(tf.random_uniform([1],-5.0,5.0))\n",
    "b = tf.Variable(tf.random_uniform([1],-5.0,5.0))"
   ]
  },
  {
   "cell_type": "code",
   "execution_count": 6,
   "metadata": {},
   "outputs": [
    {
     "name": "stdout",
     "output_type": "stream",
     "text": [
      "Tensor(\"Variable/read:0\", shape=(1,), dtype=float32)\n"
     ]
    }
   ],
   "source": [
    "print(W)"
   ]
  },
  {
   "cell_type": "code",
   "execution_count": 7,
   "metadata": {},
   "outputs": [
    {
     "name": "stdout",
     "output_type": "stream",
     "text": [
      "Tensor(\"Variable_1/read:0\", shape=(1,), dtype=float32)\n"
     ]
    }
   ],
   "source": [
    "print(b)"
   ]
  },
  {
   "cell_type": "code",
   "execution_count": 8,
   "metadata": {
    "collapsed": true
   },
   "outputs": [],
   "source": [
    "#공간 생성 float32크기의 \n",
    "X = tf.placeholder(tf.float32)\n",
    "Y = tf.placeholder(tf.float32)"
   ]
  },
  {
   "cell_type": "code",
   "execution_count": 9,
   "metadata": {
    "collapsed": true
   },
   "outputs": [],
   "source": [
    "hypothesis = W*X + b"
   ]
  },
  {
   "cell_type": "code",
   "execution_count": 10,
   "metadata": {},
   "outputs": [
    {
     "name": "stdout",
     "output_type": "stream",
     "text": [
      "Tensor(\"add:0\", dtype=float32)\n"
     ]
    }
   ],
   "source": [
    "print(hypothesis)"
   ]
  },
  {
   "cell_type": "code",
   "execution_count": 11,
   "metadata": {
    "collapsed": true
   },
   "outputs": [],
   "source": [
    "#reduce_mean tensorflow에서 평균 값을 구하는 Method\n",
    "cost = tf.reduce_mean(tf.square(hypothesis-Y))"
   ]
  },
  {
   "cell_type": "code",
   "execution_count": 12,
   "metadata": {
    "collapsed": true
   },
   "outputs": [],
   "source": [
    "a = tf.Variable(0.01)\n",
    "optimizer = tf.train.GradientDescentOptimizer(a)\n",
    "train = optimizer.minimize(cost)"
   ]
  },
  {
   "cell_type": "code",
   "execution_count": 13,
   "metadata": {
    "collapsed": true
   },
   "outputs": [],
   "source": [
    "init = tf.global_variables_initializer()"
   ]
  },
  {
   "cell_type": "code",
   "execution_count": 14,
   "metadata": {
    "collapsed": true
   },
   "outputs": [],
   "source": [
    "session = tf.Session()\n",
    "session.run(init)"
   ]
  },
  {
   "cell_type": "code",
   "execution_count": 15,
   "metadata": {},
   "outputs": [
    {
     "name": "stdout",
     "output_type": "stream",
     "text": [
      "0 13.0493 [ 3.49138618] [-3.02443099]\n",
      "20 9.49612 [ 3.71955037] [-2.4598012]\n",
      "40 8.51029 [ 3.64300418] [-2.02199316]\n",
      "60 7.78144 [ 3.57718229] [-1.64554656]\n",
      "80 7.24257 [ 3.52058578] [-1.32186031]\n",
      "100 6.84416 [ 3.47192144] [-1.04353976]\n",
      "120 6.54961 [ 3.43007731] [-0.80422664]\n",
      "140 6.33183 [ 3.39409804] [-0.598454]\n",
      "160 6.17082 [ 3.36316133] [-0.42152125]\n",
      "180 6.05178 [ 3.33656025] [-0.26938605]\n",
      "200 5.96377 [ 3.31368756] [-0.13857329]\n",
      "220 5.8987 [ 3.29402089] [-0.02609433]\n",
      "240 5.85059 [ 3.2771101] [ 0.07062031]\n",
      "260 5.81503 [ 3.26256943] [ 0.15378013]\n",
      "280 5.78873 [ 3.250067] [ 0.22528483]\n",
      "300 5.76929 [ 3.2393167] [ 0.28676787]\n",
      "320 5.75491 [ 3.23007298] [ 0.33963379]\n",
      "340 5.74428 [ 3.22212481] [ 0.38509056]\n",
      "360 5.73643 [ 3.21529078] [ 0.42417622]\n",
      "380 5.73062 [ 3.20941448] [ 0.45778394]\n",
      "400 5.72632 [ 3.20436168] [ 0.48668152]\n",
      "420 5.72315 [ 3.20001721] [ 0.51152885]\n",
      "440 5.7208 [ 3.19628143] [ 0.53289384]\n",
      "460 5.71907 [ 3.19306922] [ 0.55126441]\n",
      "480 5.71778 [ 3.19030738] [ 0.56706029]\n",
      "500 5.71683 [ 3.18793249] [ 0.58064252]\n",
      "520 5.71613 [ 3.18589067] [ 0.59232092]\n",
      "540 5.71561 [ 3.18413496] [ 0.60236239]\n",
      "560 5.71523 [ 3.18262506] [ 0.6109966]\n",
      "580 5.71495 [ 3.1813271] [ 0.61842072]\n",
      "600 5.71474 [ 3.18021083] [ 0.62480438]\n",
      "620 5.71458 [ 3.17925119] [ 0.63029337]\n",
      "640 5.71447 [ 3.17842603] [ 0.63501298]\n",
      "660 5.71438 [ 3.17771649] [ 0.63907123]\n",
      "680 5.71432 [ 3.17710614] [ 0.64256066]\n",
      "700 5.71427 [ 3.17658162] [ 0.64556098]\n",
      "720 5.71424 [ 3.17613053] [ 0.64814091]\n",
      "740 5.71421 [ 3.17574263] [ 0.65035909]\n",
      "760 5.7142 [ 3.17540908] [ 0.65226662]\n",
      "780 5.71418 [ 3.17512226] [ 0.65390688]\n",
      "800 5.71417 [ 3.17487574] [ 0.65531707]\n",
      "820 5.71416 [ 3.17466378] [ 0.65652966]\n",
      "840 5.71416 [ 3.17448139] [ 0.65757221]\n",
      "860 5.71415 [ 3.17432475] [ 0.6584686]\n",
      "880 5.71415 [ 3.17419004] [ 0.65923923]\n",
      "900 5.71415 [ 3.17407393] [ 0.65990204]\n",
      "920 5.71415 [ 3.17397428] [ 0.66047198]\n",
      "940 5.71414 [ 3.17388868] [ 0.66096193]\n",
      "960 5.71414 [ 3.17381501] [ 0.66138333]\n",
      "980 5.71414 [ 3.17375183] [ 0.66174561]\n",
      "1000 5.71414 [ 3.17369723] [ 0.66205704]\n",
      "1020 5.71414 [ 3.1736505] [ 0.66232497]\n",
      "1040 5.71414 [ 3.17361021] [ 0.66255528]\n",
      "1060 5.71414 [ 3.1735754] [ 0.66275328]\n",
      "1080 5.71414 [ 3.1735456] [ 0.66292357]\n",
      "1100 5.71414 [ 3.17352009] [ 0.66306996]\n",
      "1120 5.71414 [ 3.17349815] [ 0.66319591]\n",
      "1140 5.71414 [ 3.17347908] [ 0.66330415]\n",
      "1160 5.71414 [ 3.17346311] [ 0.66339725]\n",
      "1180 5.71414 [ 3.1734488] [ 0.66347724]\n",
      "1200 5.71414 [ 3.17343688] [ 0.66354614]\n",
      "1220 5.71414 [ 3.17342663] [ 0.66360533]\n",
      "1240 5.71414 [ 3.17341757] [ 0.66365623]\n",
      "1260 5.71414 [ 3.17340994] [ 0.66370004]\n",
      "1280 5.71414 [ 3.1734035] [ 0.66373754]\n",
      "1300 5.71414 [ 3.17339778] [ 0.66376984]\n",
      "1320 5.71414 [ 3.17339301] [ 0.66379756]\n",
      "1340 5.71414 [ 3.17338872] [ 0.66382152]\n",
      "1360 5.71414 [ 3.17338514] [ 0.6638422]\n",
      "1380 5.71414 [ 3.17338204] [ 0.66385996]\n",
      "1400 5.71414 [ 3.17337942] [ 0.66387522]\n",
      "1420 5.71414 [ 3.17337704] [ 0.66388828]\n",
      "1440 5.71414 [ 3.17337513] [ 0.66389948]\n",
      "1460 5.71414 [ 3.17337346] [ 0.66390914]\n",
      "1480 5.71414 [ 3.17337203] [ 0.66391742]\n",
      "1500 5.71414 [ 3.17337084] [ 0.66392457]\n",
      "1520 5.71414 [ 3.17336965] [ 0.66393054]\n",
      "1540 5.71414 [ 3.17336893] [ 0.6639356]\n",
      "1560 5.71414 [ 3.17336798] [ 0.66394031]\n",
      "1580 5.71414 [ 3.1733675] [ 0.66394389]\n",
      "1600 5.71414 [ 3.17336679] [ 0.6639474]\n",
      "1620 5.71414 [ 3.17336631] [ 0.66394991]\n",
      "1640 5.71414 [ 3.17336607] [ 0.66395229]\n",
      "1660 5.71414 [ 3.17336559] [ 0.66395468]\n",
      "1680 5.71414 [ 3.17336535] [ 0.66395628]\n",
      "1700 5.71414 [ 3.17336512] [ 0.66395748]\n",
      "1720 5.71414 [ 3.17336488] [ 0.66395867]\n",
      "1740 5.71414 [ 3.17336464] [ 0.66395986]\n",
      "1760 5.71414 [ 3.1733644] [ 0.66396105]\n",
      "1780 5.71414 [ 3.1733644] [ 0.66396224]\n",
      "1800 5.71414 [ 3.17336416] [ 0.6639629]\n",
      "1820 5.71414 [ 3.17336416] [ 0.6639629]\n",
      "1840 5.71414 [ 3.17336416] [ 0.6639629]\n",
      "1860 5.71414 [ 3.17336416] [ 0.6639629]\n",
      "1880 5.71414 [ 3.17336416] [ 0.6639629]\n",
      "1900 5.71414 [ 3.17336416] [ 0.6639629]\n",
      "1920 5.71414 [ 3.17336416] [ 0.6639629]\n",
      "1940 5.71414 [ 3.17336416] [ 0.6639629]\n",
      "1960 5.71414 [ 3.17336416] [ 0.6639629]\n",
      "1980 5.71414 [ 3.17336416] [ 0.6639629]\n"
     ]
    }
   ],
   "source": [
    "for step in range(2000):\n",
    "    session.run(train, feed_dict = {X:x_data,Y:y_data})\n",
    "    #20번 수행 할때마다 프린트 \n",
    "    #feed_dict를 통해 지정하는 특정값을 파라미터로 전달가능.\n",
    "    if step % 20 == 0:\n",
    "        print(step, session.run(cost, feed_dict = {X:x_data,Y:y_data}),session.run(W),session.run(b))"
   ]
  },
  {
   "cell_type": "code",
   "execution_count": 16,
   "metadata": {},
   "outputs": [
    {
     "name": "stdout",
     "output_type": "stream",
     "text": [
      "[ 16.53078461]\n"
     ]
    }
   ],
   "source": [
    "#x가 5일때의 y값을 구하는 과정 \n",
    "#feed_dict를 사용하여 hypothesis에 자동으로 대입한 결과가 나오도록 했다. \n",
    "answer = session.run(hypothesis,feed_dict={X:5})\n",
    "print(str(answer))"
   ]
  },
  {
   "cell_type": "code",
   "execution_count": 17,
   "metadata": {},
   "outputs": [
    {
     "data": {
      "image/png": "[encoded data removed]",
      "text/plain": [
       "<matplotlib.figure.Figure at 0x1fb5029f390>"
      ]
     },
     "metadata": {},
     "output_type": "display_data"
    }
   ],
   "source": [
    "#그래프를 그리는 코드.\n",
    "plt.figure(1)\n",
    "plt.plot(x_data, y_data,'bo')\n",
    "plt.plot(x_data,session.run(W)*x_data + session.run(b),'r')\n",
    "plt.plot([5],answer,'go')\n",
    "plt.show()"
   ]
  },
  {
   "cell_type": "code",
   "execution_count": null,
   "metadata": {
    "collapsed": true
   },
   "outputs": [],
   "source": []
  }
 ],
 "metadata": {
  "kernelspec": {
   "display_name": "Python 3",
   "language": "python",
   "name": "python3"
  },
  "language_info": {
   "codemirror_mode": {
    "name": "ipython",
    "version": 3
   },
   "file_extension": ".py",
   "mimetype": "text/x-python",
   "name": "python",
   "nbconvert_exporter": "python",
   "pygments_lexer": "ipython3",
   "version": "3.5.2"
  }
 },
 "nbformat": 4,
 "nbformat_minor": 2
}
